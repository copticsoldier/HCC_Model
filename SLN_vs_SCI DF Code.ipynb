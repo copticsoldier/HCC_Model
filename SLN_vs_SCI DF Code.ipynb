{
 "cells": [
  {
   "cell_type": "code",
   "execution_count": 1,
   "id": "cba7458d",
   "metadata": {},
   "outputs": [],
   "source": [
    "import pandas as pd\n",
    "import numpy as np\n",
    "import seaborn as sns\n",
    "import scipy.stats as stats\n",
    "import matplotlib.pyplot as plt\n",
    "from scipy.stats import poisson\n",
    "import statsmodels.stats.multitest\n",
    "import bioinfokit.visuz"
   ]
  },
  {
   "cell_type": "code",
   "execution_count": 2,
   "id": "74bb29c7",
   "metadata": {},
   "outputs": [],
   "source": [
    "df_qn = pd.read_csv('qnorm_stool_data',index_col=0)"
   ]
  },
  {
   "cell_type": "code",
   "execution_count": 3,
   "id": "c45b997a",
   "metadata": {},
   "outputs": [],
   "source": [
    "scodf_qn = df_qn[0:28]\n",
    "scidf_qn = df_qn[28:57]\n",
    "slndf_qn = df_qn[57:85]"
   ]
  },
  {
   "cell_type": "code",
   "execution_count": 4,
   "id": "f6436e19",
   "metadata": {},
   "outputs": [
    {
     "name": "stderr",
     "output_type": "stream",
     "text": [
      "C:\\Users\\T460\\anaconda3\\lib\\site-packages\\ipykernel_launcher.py:1: SettingWithCopyWarning: \n",
      "A value is trying to be set on a copy of a slice from a DataFrame.\n",
      "Try using .loc[row_indexer,col_indexer] = value instead\n",
      "\n",
      "See the caveats in the documentation: https://pandas.pydata.org/pandas-docs/stable/user_guide/indexing.html#returning-a-view-versus-a-copy\n",
      "  \"\"\"Entry point for launching an IPython kernel.\n",
      "C:\\Users\\T460\\anaconda3\\lib\\site-packages\\ipykernel_launcher.py:2: SettingWithCopyWarning: \n",
      "A value is trying to be set on a copy of a slice from a DataFrame.\n",
      "Try using .loc[row_indexer,col_indexer] = value instead\n",
      "\n",
      "See the caveats in the documentation: https://pandas.pydata.org/pandas-docs/stable/user_guide/indexing.html#returning-a-view-versus-a-copy\n",
      "  \n"
     ]
    }
   ],
   "source": [
    "scidf_qn['Cancer']=0\n",
    "slndf_qn['Cancer']=1"
   ]
  },
  {
   "cell_type": "code",
   "execution_count": 5,
   "id": "c920d0a8",
   "metadata": {},
   "outputs": [],
   "source": [
    "scidf_qn = scidf_qn.transpose()\n",
    "slndf_qn = slndf_qn.transpose()"
   ]
  },
  {
   "cell_type": "code",
   "execution_count": 6,
   "id": "6a6d0bce",
   "metadata": {},
   "outputs": [],
   "source": [
    "RF_final = pd.merge(scidf_qn,slndf_qn,left_index=True,right_index=True)\n",
    "RF_final = RF_final.transpose()\n",
    "RF_final.to_csv('RF_df')"
   ]
  },
  {
   "cell_type": "code",
   "execution_count": null,
   "id": "ffe7743a",
   "metadata": {},
   "outputs": [],
   "source": []
  }
 ],
 "metadata": {
  "kernelspec": {
   "display_name": "Python 3",
   "language": "python",
   "name": "python3"
  },
  "language_info": {
   "codemirror_mode": {
    "name": "ipython",
    "version": 3
   },
   "file_extension": ".py",
   "mimetype": "text/x-python",
   "name": "python",
   "nbconvert_exporter": "python",
   "pygments_lexer": "ipython3",
   "version": "3.7.10"
  }
 },
 "nbformat": 4,
 "nbformat_minor": 5
}
